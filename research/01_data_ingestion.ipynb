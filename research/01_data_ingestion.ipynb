{
 "cells": [
  {
   "cell_type": "code",
   "execution_count": 11,
   "id": "68c87b23",
   "metadata": {},
   "outputs": [],
   "source": [
    "import os"
   ]
  },
  {
   "cell_type": "code",
   "execution_count": 2,
   "id": "7365e651",
   "metadata": {},
   "outputs": [
    {
     "data": {
      "text/plain": [
       "'c:\\\\Users\\\\ainao\\\\Downloads\\\\Projects\\\\Fraud Detection\\\\research'"
      ]
     },
     "execution_count": 2,
     "metadata": {},
     "output_type": "execute_result"
    }
   ],
   "source": [
    "%pwd"
   ]
  },
  {
   "cell_type": "code",
   "execution_count": 3,
   "id": "7eac8185",
   "metadata": {},
   "outputs": [],
   "source": [
    "os.chdir(\"../\")"
   ]
  },
  {
   "cell_type": "code",
   "execution_count": 4,
   "id": "af1bde20",
   "metadata": {},
   "outputs": [
    {
     "data": {
      "text/plain": [
       "'c:\\\\Users\\\\ainao\\\\Downloads\\\\Projects\\\\Fraud Detection'"
      ]
     },
     "execution_count": 4,
     "metadata": {},
     "output_type": "execute_result"
    }
   ],
   "source": [
    "%pwd"
   ]
  },
  {
   "cell_type": "code",
   "execution_count": 5,
   "id": "a71b898c",
   "metadata": {},
   "outputs": [],
   "source": [
    "from dataclasses import dataclass\n",
    "from pathlib import Path\n",
    "import yaml\n",
    "\n",
    "@dataclass(frozen=True)\n",
    "class DataIngestionConfig:\n",
    "    train_path : Path\n",
    "    source_train_path: Path\n",
    "    source_test_path: Path\n",
    "    test_path : Path\n",
    "    root_dir: Path"
   ]
  },
  {
   "cell_type": "code",
   "execution_count": 6,
   "id": "1a472965",
   "metadata": {},
   "outputs": [],
   "source": [
    "import sys\n",
    "import os\n",
    "\n",
    "sys.path.append(os.path.abspath(\"src\"))\n",
    "from fraud_detection.utils.common import read_yaml, create_directories\n",
    "from fraud_detection.constants import *"
   ]
  },
  {
   "cell_type": "code",
   "execution_count": 7,
   "id": "e2973951",
   "metadata": {},
   "outputs": [],
   "source": [
    "class ConfigurationManager:\n",
    "    def __init__(\n",
    "        self,\n",
    "        config_filepath = CONFIG_FILE_PATH):\n",
    "\n",
    "        self.config = read_yaml(config_filepath)\n",
    "\n",
    "        create_directories([self.config.artifacts_root])\n",
    "\n",
    "    def get_data_ingestion(self) -> DataIngestionConfig:\n",
    "        config = self.config.data_ingestion\n",
    "\n",
    "        create_directories([config.root_dir])\n",
    "\n",
    "        data_ingestion_config = DataIngestionConfig(\n",
    "        root_dir = config.root_dir,\n",
    "        source_train_path = config.source_train_path,\n",
    "        source_test_path = config.source_test_path,\n",
    "        train_path = config.train_path,\n",
    "        test_path = config.test_path\n",
    "        )\n",
    "\n",
    "        return data_ingestion_config  "
   ]
  },
  {
   "cell_type": "code",
   "execution_count": 8,
   "id": "8a4dd757",
   "metadata": {},
   "outputs": [],
   "source": [
    "import pandas as pd"
   ]
  },
  {
   "cell_type": "code",
   "execution_count": null,
   "id": "eeb04e51",
   "metadata": {},
   "outputs": [],
   "source": [
    "class DataIngestion:\n",
    "    def __init__(self, config: DataIngestionConfig):\n",
    "        self.config =config\n",
    "        self.df_train = None\n",
    "        self.df_test = None\n",
    "\n",
    "    \n",
    "\n",
    "    def read_data(self):\n",
    "        self.df_train = pd.read_csv(self.config.source_train_path,low_memory=False,parse_dates=['Transaction Date'])\n",
    "        self.df_test = pd.read_csv(self.config.source_test_path,low_memory=False,parse_dates=['Transaction Date'])\n",
    "\n",
    "    def convert_data_types(self, df:pd.DataFrame) -> pd.DataFrame:\n",
    "        df['Transaction Amount'] = pd.to_numeric(df['Transaction Amount'], errors='coerce')\n",
    "        df['Quantity'] = pd.to_numeric(df['Quantity'], errors='coerce')\n",
    "        df['Customer Age'] = pd.to_numeric(df['Customer Age'], errors='coerce')\n",
    "        df['Account Age Days'] = pd.to_numeric(df['Account Age Days'], errors='coerce')\n",
    "        df['Transaction Hour'] = pd.to_numeric(df['Transaction Hour'], errors='coerce')\n",
    "        df['Is Fraudulent'] = df['Is Fraudulent'].astype(int)\n",
    "        df['Transaction Date'] = pd.to_datetime(df['Transaction Date'], errors='coerce')\n",
    "        return df\n",
    "    \n",
    "    # def add_date_features(self, df: pd.DataFrame) -> pd.DataFrame:\n",
    "    #     df['Day of Week'] = df['Transaction Date'].dt.dayofweek\n",
    "    #     df['Is Weekend'] = df['Day of Week'].isin([5, 6]).astype(int)\n",
    "    #     return df\n",
    "    \n",
    "    def process_and_save(self):\n",
    "\n",
    "        self.read_data()\n",
    "\n",
    "        self.df_train = self.convert_data_types(self.df_train)\n",
    "        #self.df_train = self.add_date_features(self.df_train)\n",
    "\n",
    "        self.df_test = self.convert_data_types(self.df_test)\n",
    "        #self.df_test = self.add_date_features(self.df_test)\n",
    "\n",
    "        self.df_train.to_csv(self.config.train_path,index=False)\n",
    "        self.df_test.to_csv(self.config.test_path, index=False)\n",
    "\n",
    "    \n",
    "    \n"
   ]
  },
  {
   "cell_type": "code",
   "execution_count": 10,
   "id": "a43e815c",
   "metadata": {},
   "outputs": [
    {
     "name": "stdout",
     "output_type": "stream",
     "text": [
      "[2025-06-30 23:34:20,054: INFO: common: yaml file: config\\config.yaml loaded successfully]\n",
      "[2025-06-30 23:34:20,056: INFO: common: created directory at: artifacts]\n",
      "[2025-06-30 23:34:20,058: INFO: common: created directory at: artifacts/data_ingestion]\n"
     ]
    }
   ],
   "source": [
    "try:\n",
    "    config = ConfigurationManager()\n",
    "    data_ingestion_config = config.get_data_ingestion()\n",
    "    data_ingestion = DataIngestion(config=data_ingestion_config)\n",
    "    #data_ingestion.read_data()\n",
    "    data_ingestion.process_and_save()\n",
    "except Exception as e:\n",
    "    raise e"
   ]
  },
  {
   "cell_type": "code",
   "execution_count": null,
   "id": "ad2d1ff0",
   "metadata": {},
   "outputs": [],
   "source": []
  },
  {
   "cell_type": "code",
   "execution_count": null,
   "id": "8652e636",
   "metadata": {},
   "outputs": [],
   "source": []
  },
  {
   "cell_type": "code",
   "execution_count": null,
   "id": "beb78edf",
   "metadata": {},
   "outputs": [],
   "source": []
  }
 ],
 "metadata": {
  "kernelspec": {
   "display_name": "fraud",
   "language": "python",
   "name": "python3"
  },
  "language_info": {
   "codemirror_mode": {
    "name": "ipython",
    "version": 3
   },
   "file_extension": ".py",
   "mimetype": "text/x-python",
   "name": "python",
   "nbconvert_exporter": "python",
   "pygments_lexer": "ipython3",
   "version": "3.10.18"
  }
 },
 "nbformat": 4,
 "nbformat_minor": 5
}
