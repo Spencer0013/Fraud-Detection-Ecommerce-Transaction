{
 "cells": [
  {
   "cell_type": "code",
   "execution_count": 1,
   "id": "fd0a4302",
   "metadata": {},
   "outputs": [],
   "source": [
    "import os"
   ]
  },
  {
   "cell_type": "code",
   "execution_count": 2,
   "id": "c8e8087d",
   "metadata": {},
   "outputs": [
    {
     "data": {
      "text/plain": [
       "'c:\\\\Users\\\\ainao\\\\Downloads\\\\Projects\\\\Fraud Detection\\\\research'"
      ]
     },
     "execution_count": 2,
     "metadata": {},
     "output_type": "execute_result"
    }
   ],
   "source": [
    "%pwd"
   ]
  },
  {
   "cell_type": "code",
   "execution_count": 3,
   "id": "da5f05d2",
   "metadata": {},
   "outputs": [],
   "source": [
    "os.chdir(\"../\")"
   ]
  },
  {
   "cell_type": "code",
   "execution_count": 4,
   "id": "f389db09",
   "metadata": {},
   "outputs": [
    {
     "data": {
      "text/plain": [
       "'c:\\\\Users\\\\ainao\\\\Downloads\\\\Projects\\\\Fraud Detection'"
      ]
     },
     "execution_count": 4,
     "metadata": {},
     "output_type": "execute_result"
    }
   ],
   "source": [
    "%pwd"
   ]
  },
  {
   "cell_type": "code",
   "execution_count": 5,
   "id": "e8ffb660",
   "metadata": {},
   "outputs": [],
   "source": [
    "from dataclasses import dataclass\n",
    "from pathlib import Path\n",
    "@dataclass\n",
    "class ModelTunerConfig:\n",
    "    root_dir : Path\n",
    "    tuner_save_path: str\n",
    "    param_dist: dict\n",
    "    cv_folds: int\n",
    "    scoring: str\n",
    "    model_save_path: Path\n",
    "    model_name : str"
   ]
  },
  {
   "cell_type": "code",
   "execution_count": 6,
   "id": "532f0408",
   "metadata": {},
   "outputs": [],
   "source": [
    "from fraud_detection.utils.common import read_yaml\n",
    "from fraud_detection.constants import *\n",
    "from fraud_detection.utils.common import create_directories, save_object\n",
    "from fraud_detection.entity import DataTransformationConfig"
   ]
  },
  {
   "cell_type": "code",
   "execution_count": 7,
   "id": "e962a7c8",
   "metadata": {},
   "outputs": [],
   "source": [
    "class ConfigurationManager:\n",
    "    def __init__(self, config_filepath=CONFIG_FILE_PATH):\n",
    "        self.config = read_yaml(config_filepath)\n",
    "        create_directories([self.config.artifacts_root])\n",
    "\n",
    "    def get_data_transformation(self) -> DataTransformationConfig:\n",
    "        config = self.config.data_transformation\n",
    "\n",
    "        create_directories([config.root_dir])\n",
    "\n",
    "        data_transformation_config = DataTransformationConfig(\n",
    "            root_dir=config.root_dir,\n",
    "            train_path=config.train_path,\n",
    "            test_path=config.test_path,\n",
    "            train_data=config.train_data,\n",
    "            test_data=config.test_data,\n",
    "            preprocessor=config.preprocessor\n",
    "        )\n",
    "\n",
    "        return data_transformation_config\n",
    "\n",
    "\n",
    "    def get_model_tuner(self) -> ModelTunerConfig:\n",
    "        \n",
    "        config = self.config.model_tuner\n",
    "\n",
    "        create_directories([config.root_dir])\n",
    "\n",
    "        model_tuner_config = ModelTunerConfig(\n",
    "        root_dir=config.root_dir,\n",
    "        tuner_save_path = config.tuner_save_path,\n",
    "         param_dist = config.param_dist,\n",
    "        cv_folds = config.cv_folds,\n",
    "        scoring = config.scoring,\n",
    "        model_save_path = config.model_save_path,\n",
    "        model_name = config. model_name\n",
    "         )\n",
    "\n",
    "        return model_tuner_config"
   ]
  },
  {
   "cell_type": "code",
   "execution_count": 8,
   "id": "a328100d",
   "metadata": {},
   "outputs": [],
   "source": [
    "from sklearn.ensemble import GradientBoostingClassifier\n",
    "from sklearn.model_selection import RandomizedSearchCV\n",
    "from sklearn.metrics import roc_auc_score, make_scorer\n",
    "from sklearn.model_selection import StratifiedKFold\n",
    "from scipy.stats import uniform, randint\n",
    "from sklearn.ensemble import RandomForestClassifier, AdaBoostClassifier, GradientBoostingClassifier"
   ]
  },
  {
   "cell_type": "code",
   "execution_count": 9,
   "id": "9b2ed2f2",
   "metadata": {},
   "outputs": [],
   "source": [
    "class ModelTuner:\n",
    "    def __init__(self, config, data_transformer):\n",
    "        self.config = config\n",
    "        self.data_transformer = data_transformer\n",
    "\n",
    "    def _roc_auc(self, y_true, y_pred_proba):\n",
    "        \"\"\"Compute ROC AUC score (probabilities required).\"\"\"\n",
    "        return roc_auc_score(y_true, y_pred_proba[:, 1])\n",
    "\n",
    "    def tune(self):\n",
    "        # Unpack with val set included\n",
    "        X_train, X_val, X_test, y_train, y_val, y_test, preprocessor_path = self.data_transformer.initiate_data_transformation_and_split()\n",
    "\n",
    "        # Define models and param grids from config\n",
    "        model_name = self.config.model_name\n",
    "        param_dist = self.config.param_dist.get(model_name, None)\n",
    "\n",
    "        if param_dist is None:\n",
    "            raise ValueError(f\"[ModelTuner] No param_dist found for {model_name} in config.\")\n",
    "\n",
    "        # Initialize model based on model_name\n",
    "        if model_name == \"Random Forest\":\n",
    "            from sklearn.ensemble import RandomForestClassifier\n",
    "            model = RandomForestClassifier(random_state=42, n_jobs=-1)\n",
    "        elif model_name == \"AdaBoost\":\n",
    "            from sklearn.ensemble import AdaBoostClassifier\n",
    "            model = AdaBoostClassifier(random_state=42)\n",
    "        elif model_name == \"Gradient Boosting\":\n",
    "            from sklearn.ensemble import GradientBoostingClassifier\n",
    "            model = GradientBoostingClassifier(random_state=42, n_iter_no_change=5, validation_fraction=0.1)\n",
    "        elif model_name == \"LightGBM\":\n",
    "            from lightgbm import LGBMClassifier\n",
    "            model = LGBMClassifier(random_state=42, n_jobs=-1)\n",
    "        else:\n",
    "            raise ValueError(f\"[ModelTuner] Unsupported model: {model_name}\")\n",
    "\n",
    "        scoring = make_scorer(roc_auc_score, needs_proba=True)\n",
    "        cv = StratifiedKFold(n_splits=self.config.cv_folds, shuffle=True, random_state=42)\n",
    "\n",
    "        random_search = RandomizedSearchCV(\n",
    "            estimator=model,\n",
    "            param_distributions=param_dist,\n",
    "            scoring='roc_auc',\n",
    "            n_iter=10,\n",
    "            cv=cv,\n",
    "            n_jobs=-1,\n",
    "            verbose=2,\n",
    "            random_state=42,\n",
    "        )\n",
    "\n",
    "        print(f\"[ModelTuner] Starting hyperparameter tuning for {model_name}...\")\n",
    "\n",
    "        random_search.fit(X_train, y_train)\n",
    "\n",
    "        best_model = random_search.best_estimator_\n",
    "        best_params = random_search.best_params_\n",
    "\n",
    "        print(f\"[ModelTuner] Best parameters for {model_name}: {best_params}\")\n",
    "\n",
    "        if self.config.tuner_save_path:\n",
    "            save_object(self.config.tuner_save_path, best_model)\n",
    "            print(f\"[ModelTuner] Best tuned model saved to: {self.config.tuner_save_path}\")\n",
    "\n",
    "        return best_model, best_params\n"
   ]
  },
  {
   "cell_type": "code",
   "execution_count": 10,
   "id": "560ef8a5",
   "metadata": {},
   "outputs": [],
   "source": [
    "from fraud_detection.conponents.model_trainer import ModelTrainer\n",
    "from fraud_detection.config.configuration import DataTransformationConfig\n",
    "from fraud_detection.conponents.data_transformation import DataTransformation"
   ]
  },
  {
   "cell_type": "code",
   "execution_count": 11,
   "id": "3c4e1430",
   "metadata": {},
   "outputs": [
    {
     "name": "stdout",
     "output_type": "stream",
     "text": [
      "[2025-06-30 22:36:41,272: INFO: common: yaml file: config\\config.yaml loaded successfully]\n",
      "[2025-06-30 22:36:41,276: INFO: common: created directory at: artifacts]\n",
      "[2025-06-30 22:36:41,279: INFO: common: created directory at: artifacts/data_transformation]\n",
      "[2025-06-30 22:36:41,280: INFO: common: created directory at: artifacts/model_tuner]\n",
      "Transaction Date column after conversion:\n",
      "0   2024-02-20 05:58:41\n",
      "1   2024-02-25 08:09:45\n",
      "2   2024-03-18 03:42:55\n",
      "3   2024-03-16 20:41:31\n",
      "4   2024-01-15 05:08:17\n",
      "Name: Transaction Date, dtype: datetime64[ns]\n",
      "Data type: datetime64[ns]\n",
      "Transaction Date column after conversion:\n",
      "0   2024-03-24 23:42:43\n",
      "1   2024-01-22 00:53:31\n",
      "2   2024-01-22 08:06:03\n",
      "3   2024-01-16 20:34:53\n",
      "4   2024-01-16 15:47:23\n",
      "Name: Transaction Date, dtype: datetime64[ns]\n",
      "Data type: datetime64[ns]\n",
      "[2025-06-30 22:36:41,423: INFO: data_transformation: Building preprocessing pipeline.]\n",
      "[2025-06-30 22:36:41,423: INFO: data_transformation: Applying preprocessing pipeline.]\n",
      "[ModelTuner] Starting hyperparameter tuning for Gradient Boosting...\n",
      "Fitting 3 folds for each of 10 candidates, totalling 30 fits\n",
      "[ModelTuner] Best parameters for Gradient Boosting: {'subsample': 0.8, 'n_estimators': 100, 'min_samples_split': 2, 'min_samples_leaf': 1, 'max_depth': 3, 'learning_rate': 0.05}\n",
      "[ModelTuner] Best tuned model saved to: artifacts/model_tuner/best_model.pkl\n"
     ]
    }
   ],
   "source": [
    "try:\n",
    "    config = ConfigurationManager()\n",
    "    data_transformation_config = config.get_data_transformation()\n",
    "    data_transformer = DataTransformation(config=data_transformation_config)\n",
    "    model_tuner_config = config.get_model_tuner()\n",
    "    model_tuner= ModelTuner(config=model_tuner_config, data_transformer=data_transformer)\n",
    "    model_tuner.tune()\n",
    "except Exception as e:\n",
    "    raise e"
   ]
  },
  {
   "cell_type": "code",
   "execution_count": null,
   "id": "e869ff2e",
   "metadata": {},
   "outputs": [],
   "source": []
  },
  {
   "cell_type": "code",
   "execution_count": null,
   "id": "5b6f8cc5",
   "metadata": {},
   "outputs": [],
   "source": []
  },
  {
   "cell_type": "code",
   "execution_count": null,
   "id": "7aeae601",
   "metadata": {},
   "outputs": [],
   "source": []
  },
  {
   "cell_type": "code",
   "execution_count": null,
   "id": "6ac4b277",
   "metadata": {},
   "outputs": [],
   "source": []
  },
  {
   "cell_type": "code",
   "execution_count": null,
   "id": "b79cbbf3",
   "metadata": {},
   "outputs": [],
   "source": []
  },
  {
   "cell_type": "code",
   "execution_count": null,
   "id": "278af0b2",
   "metadata": {},
   "outputs": [],
   "source": []
  }
 ],
 "metadata": {
  "kernelspec": {
   "display_name": "fraud",
   "language": "python",
   "name": "python3"
  },
  "language_info": {
   "codemirror_mode": {
    "name": "ipython",
    "version": 3
   },
   "file_extension": ".py",
   "mimetype": "text/x-python",
   "name": "python",
   "nbconvert_exporter": "python",
   "pygments_lexer": "ipython3",
   "version": "3.10.18"
  }
 },
 "nbformat": 4,
 "nbformat_minor": 5
}
