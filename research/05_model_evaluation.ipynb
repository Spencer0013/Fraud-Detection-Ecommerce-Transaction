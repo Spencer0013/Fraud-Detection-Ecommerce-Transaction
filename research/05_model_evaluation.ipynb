{
 "cells": [
  {
   "cell_type": "code",
   "execution_count": 1,
   "id": "aaff30ff",
   "metadata": {},
   "outputs": [],
   "source": [
    "import os"
   ]
  },
  {
   "cell_type": "code",
   "execution_count": 2,
   "id": "fcdb3369",
   "metadata": {},
   "outputs": [
    {
     "data": {
      "text/plain": [
       "'c:\\\\Users\\\\ainao\\\\Downloads\\\\Projects\\\\Fraud Detection\\\\research'"
      ]
     },
     "execution_count": 2,
     "metadata": {},
     "output_type": "execute_result"
    }
   ],
   "source": [
    "%pwd"
   ]
  },
  {
   "cell_type": "code",
   "execution_count": 3,
   "id": "3ea35bfd",
   "metadata": {},
   "outputs": [],
   "source": [
    "os.chdir(\"../\")"
   ]
  },
  {
   "cell_type": "code",
   "execution_count": 4,
   "id": "239c30d5",
   "metadata": {},
   "outputs": [
    {
     "data": {
      "text/plain": [
       "'c:\\\\Users\\\\ainao\\\\Downloads\\\\Projects\\\\Fraud Detection'"
      ]
     },
     "execution_count": 4,
     "metadata": {},
     "output_type": "execute_result"
    }
   ],
   "source": [
    "%pwd"
   ]
  },
  {
   "cell_type": "code",
   "execution_count": 5,
   "id": "7f84cde8",
   "metadata": {},
   "outputs": [],
   "source": [
    "from dataclasses import dataclass\n",
    "from pathlib import Path\n",
    "@dataclass\n",
    "class ModelEvaluationConfig:\n",
    "    root_dir : Path\n",
    "    best_model_path: Path\n",
    "    save_path : Path\n",
    "    "
   ]
  },
  {
   "cell_type": "code",
   "execution_count": 6,
   "id": "a7751efd",
   "metadata": {},
   "outputs": [],
   "source": [
    "from fraud_detection.utils.common import read_yaml\n",
    "from fraud_detection.constants import *\n",
    "from fraud_detection.utils.common import create_directories, save_object\n",
    "from fraud_detection.entity import DataTransformationConfig"
   ]
  },
  {
   "cell_type": "code",
   "execution_count": null,
   "id": "1a29a49d",
   "metadata": {},
   "outputs": [],
   "source": [
    "class ConfigurationManager:\n",
    "    def __init__(self, config_filepath=CONFIG_FILE_PATH):\n",
    "        self.config = read_yaml(config_filepath)\n",
    "        create_directories([self.config.artifacts_root])\n",
    "\n",
    "    def get_data_transformation(self) -> DataTransformationConfig:\n",
    "        config = self.config.data_transformation\n",
    "\n",
    "        create_directories([config.root_dir])\n",
    "\n",
    "        data_transformation_config = DataTransformationConfig(\n",
    "            root_dir=config.root_dir,\n",
    "            train_path=config.train_path,\n",
    "            test_path=config.test_path,\n",
    "            train_data=config.train_data,\n",
    "            test_data=config.test_data,\n",
    "            preprocessor=config.preprocessor\n",
    "        )\n",
    "\n",
    "        return data_transformation_config\n",
    "\n",
    "\n",
    "    def get_model_evaluation(self) -> ModelEvaluationConfig:\n",
    "        \n",
    "        config = self.config.model_tuner.model_evaluation\n",
    "\n",
    "        create_directories([config.root_dir])\n",
    "\n",
    "        model_evaluation_config = ModelEvaluationConfig(\n",
    "            root_dir=config.root_dir,\n",
    "            tuner_save_path=config.tuner_save_path,\n",
    "            param_dist=config.param_dist,\n",
    "            cv_folds=config.cv_folds,\n",
    "            scoring=config.scoring,\n",
    "            model_save_path=config.model_save_path,\n",
    "            model_name=config.model_name\n",
    "       \n",
    "         )\n",
    "\n",
    "        return model_evaluation_config\n",
    "\n",
    "        \n",
    "\n",
    "    "
   ]
  },
  {
   "cell_type": "code",
   "execution_count": null,
   "id": "4864d527",
   "metadata": {},
   "outputs": [],
   "source": [
    "from pathlib import Path\n",
    "from fraud_detection.utils.common import save_json  \n",
    "import numpy as np\n",
    "from sklearn.metrics import (\n",
    "    f1_score,\n",
    "    roc_auc_score,\n",
    "    precision_score,\n",
    "    recall_score,\n",
    "    confusion_matrix\n",
    ")\n",
    "from fraud_detection.conponents.data_transformation import DataTransformation\n",
    "import joblib  # for loading the model\n",
    "import os\n",
    "import json\n",
    "from sklearn.metrics import (\n",
    "    accuracy_score, precision_score, recall_score, f1_score,\n",
    "    roc_auc_score, confusion_matrix, classification_report"
   ]
  },
  {
   "cell_type": "code",
   "execution_count": null,
   "id": "b94ae8a4",
   "metadata": {},
   "outputs": [],
   "source": [
    "class ModelEvaluator:\n",
    "    def __init__(self, config, data_transformer, positive_label=1):\n",
    "        \"\"\"\n",
    "        positive_label: label representing the 'fraud' class, usually 1\n",
    "        \"\"\"\n",
    "        self.config = config\n",
    "        self.data_transformer = data_transformer\n",
    "        self.save_path = config.save_path\n",
    "        self.positive_label = positive_label\n",
    "        self.model = self._load_model(config.best_model_path)\n",
    "\n",
    "    def _load_model(self, model_path):\n",
    "        if not os.path.exists(model_path):\n",
    "            raise FileNotFoundError(f\"Model file not found at {model_path}\")\n",
    "        return joblib.load(model_path)\n",
    "\n",
    "    def evaluate(self):\n",
    "        (\n",
    "            X_train,\n",
    "            X_val,\n",
    "            X_test,\n",
    "            y_train,\n",
    "            y_val,\n",
    "            y_test,\n",
    "            preprocessor_path\n",
    "        ) = self.data_transformer.initiate_data_transformation_and_split()\n",
    "\n",
    "        y_val_pred = self.model.predict(X_val)\n",
    "        y_val_prob = None\n",
    "        if hasattr(self.model, \"predict_proba\"):\n",
    "            y_val_prob = self.model.predict_proba(X_val)[:, 1]\n",
    "\n",
    "        # Overall accuracy\n",
    "        accuracy = accuracy_score(y_val, y_val_pred)\n",
    "\n",
    "        # Metrics for positive (fraud) class explicitly\n",
    "        precision = precision_score(y_val, y_val_pred, pos_label=self.positive_label)\n",
    "        recall = recall_score(y_val, y_val_pred, pos_label=self.positive_label)\n",
    "        f1 = f1_score(y_val, y_val_pred, pos_label=self.positive_label)\n",
    "\n",
    "        # ROC AUC (for positive class probabilities)\n",
    "        try:\n",
    "            roc_auc = roc_auc_score(y_val, y_val_prob) if y_val_prob is not None else None\n",
    "        except ValueError:\n",
    "            roc_auc = None  # Handle cases with only one class in y_val\n",
    "\n",
    "        conf_matrix = confusion_matrix(y_val, y_val_pred).tolist()\n",
    "\n",
    "        # Print detailed classification report for both classes\n",
    "        print(\"=== Classification Report (All Classes) ===\")\n",
    "        print(classification_report(y_val, y_val_pred))\n",
    "\n",
    "        print(\"=== Confusion Matrix ===\")\n",
    "        print(conf_matrix)\n",
    "\n",
    "        print(\"=== Fraud Class (Positive Label) Metrics ===\")\n",
    "        print(f\"Accuracy:  {accuracy:.4f}\")\n",
    "        print(f\"Precision: {precision:.4f}  (fraud)\")\n",
    "        print(f\"Recall:    {recall:.4f}  (fraud)\")\n",
    "        print(f\"F1 Score:  {f1:.4f}  (fraud)\")\n",
    "        if roc_auc is not None:\n",
    "            print(f\"ROC AUC:   {roc_auc:.4f}  (fraud)\")\n",
    "        else:\n",
    "            print(\"ROC AUC:   N/A\")\n",
    "\n",
    "        results = {\n",
    "            \"validation_accuracy\": accuracy,\n",
    "            \"validation_f1_score_fraud\": f1,\n",
    "            \"validation_precision_fraud\": precision,\n",
    "            \"validation_recall_fraud\": recall,\n",
    "            \"validation_roc_auc_fraud\": roc_auc,\n",
    "            \"validation_confusion_matrix\": conf_matrix\n",
    "        }\n",
    "\n",
    "        if self.save_path:\n",
    "            save_json(Path(self.save_path), results)\n",
    "            print(f\"[ModelEvaluator] Results saved to {self.save_path}\")\n",
    "\n",
    "        return results"
   ]
  },
  {
   "cell_type": "code",
   "execution_count": 10,
   "id": "f3f9ec65",
   "metadata": {},
   "outputs": [
    {
     "name": "stdout",
     "output_type": "stream",
     "text": [
      "[2025-06-30 22:37:06,695: INFO: common: yaml file: config\\config.yaml loaded successfully]\n",
      "[2025-06-30 22:37:06,697: INFO: common: created directory at: artifacts]\n",
      "[2025-06-30 22:37:06,699: INFO: common: created directory at: artifacts/data_transformation]\n",
      "[2025-06-30 22:37:06,701: INFO: common: created directory at: artifacts/model_evaluation]\n",
      "Transaction Date column after conversion:\n",
      "0   2024-02-20 05:58:41\n",
      "1   2024-02-25 08:09:45\n",
      "2   2024-03-18 03:42:55\n",
      "3   2024-03-16 20:41:31\n",
      "4   2024-01-15 05:08:17\n",
      "Name: Transaction Date, dtype: datetime64[ns]\n",
      "Data type: datetime64[ns]\n",
      "Transaction Date column after conversion:\n",
      "0   2024-03-24 23:42:43\n",
      "1   2024-01-22 00:53:31\n",
      "2   2024-01-22 08:06:03\n",
      "3   2024-01-16 20:34:53\n",
      "4   2024-01-16 15:47:23\n",
      "Name: Transaction Date, dtype: datetime64[ns]\n",
      "Data type: datetime64[ns]\n",
      "[2025-06-30 22:37:07,068: INFO: data_transformation: Building preprocessing pipeline.]\n",
      "[2025-06-30 22:37:07,075: INFO: data_transformation: Applying preprocessing pipeline.]\n",
      "[ModelEvaluator] Validation F1 Score: 0.2000\n",
      "[ModelEvaluator] Validation Precision: 0.7333\n",
      "[ModelEvaluator] Validation Recall: 0.1158\n",
      "[ModelEvaluator] Validation ROC AUC: 0.8244\n",
      "[ModelEvaluator] Confusion Matrix: [[1901, 4], [84, 11]]\n",
      "[2025-06-30 22:37:07,145: INFO: common: json file saved at: artifacts\\model_evaluation\\evaluation_results.json]\n",
      "[ModelEvaluator] Results saved to artifacts/model_evaluation/evaluation_results.json\n"
     ]
    }
   ],
   "source": [
    "try:\n",
    "    config = ConfigurationManager()\n",
    "    data_transformation_config = config.get_data_transformation()\n",
    "    data_transformer = DataTransformation(config=data_transformation_config)\n",
    "    model_evaluation_config = config.get_model_evaluation()\n",
    "    model_evaluation= ModelEvaluator(config=model_evaluation_config, data_transformer=data_transformer)\n",
    "    model_evaluation.evaluate()\n",
    "except Exception as e:\n",
    "    raise e"
   ]
  }
 ],
 "metadata": {
  "kernelspec": {
   "display_name": "fraud",
   "language": "python",
   "name": "python3"
  },
  "language_info": {
   "codemirror_mode": {
    "name": "ipython",
    "version": 3
   },
   "file_extension": ".py",
   "mimetype": "text/x-python",
   "name": "python",
   "nbconvert_exporter": "python",
   "pygments_lexer": "ipython3",
   "version": "3.10.18"
  }
 },
 "nbformat": 4,
 "nbformat_minor": 5
}
